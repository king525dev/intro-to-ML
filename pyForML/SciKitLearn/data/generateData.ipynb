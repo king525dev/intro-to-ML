{
 "cells": [
  {
   "cell_type": "markdown",
   "id": "cda9f9d5",
   "metadata": {},
   "source": [
    "# Generate Practice Data"
   ]
  },
  {
   "cell_type": "code",
   "execution_count": 2,
   "id": "0ff491f5",
   "metadata": {},
   "outputs": [],
   "source": [
    "import numpy as np\n",
    "import pandas as pd"
   ]
  },
  {
   "cell_type": "code",
   "execution_count": 26,
   "id": "151602f7",
   "metadata": {},
   "outputs": [],
   "source": [
    "# Generate x values\n",
    "xValues = np.linspace(-20, 20, 100)"
   ]
  },
  {
   "cell_type": "code",
   "execution_count": 9,
   "id": "c8a4d32b",
   "metadata": {},
   "outputs": [
    {
     "name": "stdout",
     "output_type": "stream",
     "text": [
      "Help on _ArrayFunctionDispatcher in module numpy:\n",
      "\n",
      "linspace(start, stop, num=50, endpoint=True, retstep=False, dtype=None, axis=0)\n",
      "    Return evenly spaced numbers over a specified interval.\n",
      "    \n",
      "    Returns `num` evenly spaced samples, calculated over the\n",
      "    interval [`start`, `stop`].\n",
      "    \n",
      "    The endpoint of the interval can optionally be excluded.\n",
      "    \n",
      "    .. versionchanged:: 1.16.0\n",
      "        Non-scalar `start` and `stop` are now supported.\n",
      "    \n",
      "    .. versionchanged:: 1.20.0\n",
      "        Values are rounded towards ``-inf`` instead of ``0`` when an\n",
      "        integer ``dtype`` is specified. The old behavior can\n",
      "        still be obtained with ``np.linspace(start, stop, num).astype(int)``\n",
      "    \n",
      "    Parameters\n",
      "    ----------\n",
      "    start : array_like\n",
      "        The starting value of the sequence.\n",
      "    stop : array_like\n",
      "        The end value of the sequence, unless `endpoint` is set to False.\n",
      "        In that case, the sequence consists of all but the last of ``num + 1``\n",
      "        evenly spaced samples, so that `stop` is excluded.  Note that the step\n",
      "        size changes when `endpoint` is False.\n",
      "    num : int, optional\n",
      "        Number of samples to generate. Default is 50. Must be non-negative.\n",
      "    endpoint : bool, optional\n",
      "        If True, `stop` is the last sample. Otherwise, it is not included.\n",
      "        Default is True.\n",
      "    retstep : bool, optional\n",
      "        If True, return (`samples`, `step`), where `step` is the spacing\n",
      "        between samples.\n",
      "    dtype : dtype, optional\n",
      "        The type of the output array.  If `dtype` is not given, the data type\n",
      "        is inferred from `start` and `stop`. The inferred dtype will never be\n",
      "        an integer; `float` is chosen even if the arguments would produce an\n",
      "        array of integers.\n",
      "    \n",
      "        .. versionadded:: 1.9.0\n",
      "    \n",
      "    axis : int, optional\n",
      "        The axis in the result to store the samples.  Relevant only if start\n",
      "        or stop are array-like.  By default (0), the samples will be along a\n",
      "        new axis inserted at the beginning. Use -1 to get an axis at the end.\n",
      "    \n",
      "        .. versionadded:: 1.16.0\n",
      "    \n",
      "    Returns\n",
      "    -------\n",
      "    samples : ndarray\n",
      "        There are `num` equally spaced samples in the closed interval\n",
      "        ``[start, stop]`` or the half-open interval ``[start, stop)``\n",
      "        (depending on whether `endpoint` is True or False).\n",
      "    step : float, optional\n",
      "        Only returned if `retstep` is True\n",
      "    \n",
      "        Size of spacing between samples.\n",
      "    \n",
      "    \n",
      "    See Also\n",
      "    --------\n",
      "    arange : Similar to `linspace`, but uses a step size (instead of the\n",
      "             number of samples).\n",
      "    geomspace : Similar to `linspace`, but with numbers spaced evenly on a log\n",
      "                scale (a geometric progression).\n",
      "    logspace : Similar to `geomspace`, but with the end points specified as\n",
      "               logarithms.\n",
      "    :ref:`how-to-partition`\n",
      "    \n",
      "    Examples\n",
      "    --------\n",
      "    >>> np.linspace(2.0, 3.0, num=5)\n",
      "    array([2.  , 2.25, 2.5 , 2.75, 3.  ])\n",
      "    >>> np.linspace(2.0, 3.0, num=5, endpoint=False)\n",
      "    array([2. ,  2.2,  2.4,  2.6,  2.8])\n",
      "    >>> np.linspace(2.0, 3.0, num=5, retstep=True)\n",
      "    (array([2.  ,  2.25,  2.5 ,  2.75,  3.  ]), 0.25)\n",
      "    \n",
      "    Graphical illustration:\n",
      "    \n",
      "    >>> import matplotlib.pyplot as plt\n",
      "    >>> N = 8\n",
      "    >>> y = np.zeros(N)\n",
      "    >>> x1 = np.linspace(0, 10, N, endpoint=True)\n",
      "    >>> x2 = np.linspace(0, 10, N, endpoint=False)\n",
      "    >>> plt.plot(x1, y, 'o')\n",
      "    [<matplotlib.lines.Line2D object at 0x...>]\n",
      "    >>> plt.plot(x2, y + 0.5, 'o')\n",
      "    [<matplotlib.lines.Line2D object at 0x...>]\n",
      "    >>> plt.ylim([-0.5, 1])\n",
      "    (-0.5, 1)\n",
      "    >>> plt.show()\n",
      "\n"
     ]
    }
   ],
   "source": [
    "help(np.linspace)"
   ]
  },
  {
   "cell_type": "code",
   "execution_count": null,
   "id": "21659bdb",
   "metadata": {},
   "outputs": [
    {
     "data": {
      "text/plain": [
       "array([-20.        , -19.5959596 , -19.19191919, -18.78787879,\n",
       "       -18.38383838, -17.97979798, -17.57575758, -17.17171717,\n",
       "       -16.76767677, -16.36363636, -15.95959596, -15.55555556,\n",
       "       -15.15151515, -14.74747475, -14.34343434, -13.93939394,\n",
       "       -13.53535354, -13.13131313, -12.72727273, -12.32323232,\n",
       "       -11.91919192, -11.51515152, -11.11111111, -10.70707071,\n",
       "       -10.3030303 ,  -9.8989899 ,  -9.49494949,  -9.09090909,\n",
       "        -8.68686869,  -8.28282828,  -7.87878788,  -7.47474747,\n",
       "        -7.07070707,  -6.66666667,  -6.26262626,  -5.85858586,\n",
       "        -5.45454545,  -5.05050505,  -4.64646465,  -4.24242424,\n",
       "        -3.83838384,  -3.43434343,  -3.03030303,  -2.62626263,\n",
       "        -2.22222222,  -1.81818182,  -1.41414141,  -1.01010101,\n",
       "        -0.60606061,  -0.2020202 ,   0.2020202 ,   0.60606061,\n",
       "         1.01010101,   1.41414141,   1.81818182,   2.22222222,\n",
       "         2.62626263,   3.03030303,   3.43434343,   3.83838384,\n",
       "         4.24242424,   4.64646465,   5.05050505,   5.45454545,\n",
       "         5.85858586,   6.26262626,   6.66666667,   7.07070707,\n",
       "         7.47474747,   7.87878788,   8.28282828,   8.68686869,\n",
       "         9.09090909,   9.49494949,   9.8989899 ,  10.3030303 ,\n",
       "        10.70707071,  11.11111111,  11.51515152,  11.91919192,\n",
       "        12.32323232,  12.72727273,  13.13131313,  13.53535354,\n",
       "        13.93939394,  14.34343434,  14.74747475,  15.15151515,\n",
       "        15.55555556,  15.95959596,  16.36363636,  16.76767677,\n",
       "        17.17171717,  17.57575758,  17.97979798,  18.38383838,\n",
       "        18.78787879,  19.19191919,  19.5959596 ,  20.        ])"
      ]
     },
     "execution_count": 15,
     "metadata": {},
     "output_type": "execute_result"
    }
   ],
   "source": [
    "xValues"
   ]
  },
  {
   "cell_type": "code",
   "execution_count": 27,
   "id": "16e868d0",
   "metadata": {},
   "outputs": [],
   "source": [
    "# Calculate y values based on the formula y = (2x + 5)^2\n",
    "yValues = (2 * x_values + 5)**2"
   ]
  },
  {
   "cell_type": "code",
   "execution_count": 19,
   "id": "43b529b3",
   "metadata": {},
   "outputs": [
    {
     "data": {
      "text/plain": [
       "array([2.50000000e+01, 4.92832364e+01, 8.17289052e+01, 1.22337006e+02,\n",
       "       1.71107540e+02, 2.28040506e+02, 2.93135904e+02, 3.66393735e+02,\n",
       "       4.47813999e+02, 5.37396694e+02, 6.35141822e+02, 7.41049383e+02,\n",
       "       8.55119376e+02, 9.77351801e+02, 1.10774666e+03, 1.24630395e+03,\n",
       "       1.39302367e+03, 1.54790583e+03, 1.71095041e+03, 1.88215743e+03,\n",
       "       2.06152689e+03, 2.24905877e+03, 2.44475309e+03, 2.64860984e+03,\n",
       "       2.86062902e+03, 3.08081063e+03, 3.30915468e+03, 3.54566116e+03,\n",
       "       3.79033007e+03, 4.04316141e+03, 4.30415519e+03, 4.57331140e+03,\n",
       "       4.85063004e+03, 5.13611111e+03, 5.42975462e+03, 5.73156056e+03,\n",
       "       6.04152893e+03, 6.35965973e+03, 6.68595296e+03, 7.02040863e+03,\n",
       "       7.36302673e+03, 7.71380726e+03, 8.07275023e+03, 8.43985563e+03,\n",
       "       8.81512346e+03, 9.19855372e+03, 9.59014641e+03, 9.98990154e+03,\n",
       "       1.03978191e+04, 1.08138991e+04, 1.12381415e+04, 1.16705464e+04,\n",
       "       1.21111137e+04, 1.25598434e+04, 1.30167355e+04, 1.34817901e+04,\n",
       "       1.39550071e+04, 1.44363866e+04, 1.49259285e+04, 1.54236328e+04,\n",
       "       1.59294995e+04, 1.64435287e+04, 1.69657203e+04, 1.74960744e+04,\n",
       "       1.80345909e+04, 1.85812698e+04, 1.91361111e+04, 1.96991149e+04,\n",
       "       2.02702811e+04, 2.08496097e+04, 2.14371008e+04, 2.20327543e+04,\n",
       "       2.26365702e+04, 2.32485486e+04, 2.38686894e+04, 2.44969927e+04,\n",
       "       2.51334583e+04, 2.57780864e+04, 2.64308770e+04, 2.70918299e+04,\n",
       "       2.77609453e+04, 2.84382231e+04, 2.91236634e+04, 2.98172661e+04,\n",
       "       3.05190312e+04, 3.12289588e+04, 3.19470488e+04, 3.26733012e+04,\n",
       "       3.34077160e+04, 3.41502933e+04, 3.49010331e+04, 3.56599352e+04,\n",
       "       3.64269998e+04, 3.72022268e+04, 3.79856163e+04, 3.87771681e+04,\n",
       "       3.95768825e+04, 4.03847592e+04, 4.12007984e+04, 4.20250000e+04])"
      ]
     },
     "execution_count": 19,
     "metadata": {},
     "output_type": "execute_result"
    }
   ],
   "source": [
    "yValues"
   ]
  },
  {
   "cell_type": "code",
   "execution_count": 28,
   "id": "e42a1d1d",
   "metadata": {},
   "outputs": [],
   "source": [
    "# Create a DataFrame\n",
    "data = pd.DataFrame({'x': x_values, 'y': y_values})"
   ]
  },
  {
   "cell_type": "code",
   "execution_count": 21,
   "id": "b7cf0700",
   "metadata": {},
   "outputs": [
    {
     "data": {
      "text/html": [
       "<div>\n",
       "<style scoped>\n",
       "    .dataframe tbody tr th:only-of-type {\n",
       "        vertical-align: middle;\n",
       "    }\n",
       "\n",
       "    .dataframe tbody tr th {\n",
       "        vertical-align: top;\n",
       "    }\n",
       "\n",
       "    .dataframe thead th {\n",
       "        text-align: right;\n",
       "    }\n",
       "</style>\n",
       "<table border=\"1\" class=\"dataframe\">\n",
       "  <thead>\n",
       "    <tr style=\"text-align: right;\">\n",
       "      <th></th>\n",
       "      <th>x</th>\n",
       "      <th>y</th>\n",
       "    </tr>\n",
       "  </thead>\n",
       "  <tbody>\n",
       "    <tr>\n",
       "      <th>0</th>\n",
       "      <td>0.000000</td>\n",
       "      <td>25.000000</td>\n",
       "    </tr>\n",
       "    <tr>\n",
       "      <th>1</th>\n",
       "      <td>1.010101</td>\n",
       "      <td>49.283236</td>\n",
       "    </tr>\n",
       "    <tr>\n",
       "      <th>2</th>\n",
       "      <td>2.020202</td>\n",
       "      <td>81.728905</td>\n",
       "    </tr>\n",
       "    <tr>\n",
       "      <th>3</th>\n",
       "      <td>3.030303</td>\n",
       "      <td>122.337006</td>\n",
       "    </tr>\n",
       "    <tr>\n",
       "      <th>4</th>\n",
       "      <td>4.040404</td>\n",
       "      <td>171.107540</td>\n",
       "    </tr>\n",
       "  </tbody>\n",
       "</table>\n",
       "</div>"
      ],
      "text/plain": [
       "          x           y\n",
       "0  0.000000   25.000000\n",
       "1  1.010101   49.283236\n",
       "2  2.020202   81.728905\n",
       "3  3.030303  122.337006\n",
       "4  4.040404  171.107540"
      ]
     },
     "execution_count": 21,
     "metadata": {},
     "output_type": "execute_result"
    }
   ],
   "source": [
    "data.head()"
   ]
  },
  {
   "cell_type": "code",
   "execution_count": 29,
   "id": "4e29bd33",
   "metadata": {},
   "outputs": [],
   "source": [
    "# Save the data to CSV format\n",
    "data.to_csv('trainingData.csv', index=False)"
   ]
  },
  {
   "cell_type": "code",
   "execution_count": 30,
   "id": "2fd3c334",
   "metadata": {},
   "outputs": [],
   "source": [
    "# Generating Test Data\n",
    "\n",
    "xValues = np.linspace(-100, 100, 10)"
   ]
  },
  {
   "cell_type": "code",
   "execution_count": 31,
   "id": "d39510a5",
   "metadata": {},
   "outputs": [],
   "source": [
    "yValues = (2 * x_values + 5)**2"
   ]
  },
  {
   "cell_type": "code",
   "execution_count": 32,
   "id": "7e0f4a46",
   "metadata": {},
   "outputs": [],
   "source": [
    "data = pd.DataFrame({'x': x_values, 'y': y_values})\n",
    "data.to_csv('testData.csv', index=False)"
   ]
  },
  {
   "cell_type": "code",
   "execution_count": null,
   "id": "d00cb9f8",
   "metadata": {},
   "outputs": [],
   "source": []
  }
 ],
 "metadata": {
  "kernelspec": {
   "display_name": "base",
   "language": "python",
   "name": "python3"
  },
  "language_info": {
   "codemirror_mode": {
    "name": "ipython",
    "version": 3
   },
   "file_extension": ".py",
   "mimetype": "text/x-python",
   "name": "python",
   "nbconvert_exporter": "python",
   "pygments_lexer": "ipython3",
   "version": "3.11.13"
  }
 },
 "nbformat": 4,
 "nbformat_minor": 5
}

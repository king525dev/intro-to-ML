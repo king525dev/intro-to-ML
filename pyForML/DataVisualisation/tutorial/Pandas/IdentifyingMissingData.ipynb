{
 "cells": [
  {
   "cell_type": "code",
   "execution_count": 1,
   "metadata": {},
   "outputs": [],
   "source": [
    "# Import libraries\n",
    "import pandas as pd\n",
    "import numpy as np"
   ]
  },
  {
   "cell_type": "code",
   "execution_count": 2,
   "metadata": {},
   "outputs": [],
   "source": [
    "# Load Excel File\n",
    "filename = 'data/car_financing.xlsx'\n",
    "df = pd.read_excel(filename)"
   ]
  },
  {
   "cell_type": "code",
   "execution_count": 3,
   "metadata": {},
   "outputs": [],
   "source": [
    "## Filtering \n",
    "car_filter = df['car_type']=='Toyota Sienna'\n",
    "interest_filter = df['interest_rate']==0.0702\n",
    "df = df.loc[car_filter & interest_filter, :]"
   ]
  },
  {
   "cell_type": "code",
   "execution_count": null,
   "metadata": {},
   "outputs": [],
   "source": [
    "# Approach 1 dictionary substitution using rename method\n",
    "df = df.rename(\n",
    "     columns={\n",
    "          'Starting Balance': 'starting_balance',\n",
    "          'Interest Paid': 'interest_paid', \n",
    "          'Principal Paid': 'principal_paid',\n",
    "          'New Balance': 'new_balance'\n",
    "     }\n",
    ")"
   ]
  },
  {
   "cell_type": "code",
   "execution_count": 6,
   "metadata": {},
   "outputs": [],
   "source": [
    "# Approach 2 list replacement\n",
    "# Only changing Month -> month, but we need to list the rest of the columns\n",
    "df.columns = [\n",
    "     'month',\n",
    "     'starting_balance',\n",
    "     'Repayment',\n",
    "     'interest_paid',\n",
    "     'principal_paid',\n",
    "     'new_balance',\n",
    "     'term',\n",
    "     'interest_rate',\n",
    "     'car_type'\n",
    "]"
   ]
  },
  {
   "cell_type": "code",
   "execution_count": 7,
   "metadata": {},
   "outputs": [],
   "source": [
    "# Approach 1\n",
    "# This approach allows you to drop multiple columns at a time \n",
    "df = df.drop(columns=['term'])"
   ]
  },
  {
   "cell_type": "code",
   "execution_count": 8,
   "metadata": {},
   "outputs": [],
   "source": [
    "# Approach 2 use the del command\n",
    "del df['Repayment']"
   ]
  },
  {
   "cell_type": "code",
   "execution_count": 9,
   "metadata": {},
   "outputs": [
    {
     "data": {
      "text/plain": [
       "(60, 7)"
      ]
     },
     "execution_count": 9,
     "metadata": {},
     "output_type": "execute_result"
    }
   ],
   "source": [
    "df.shape"
   ]
  },
  {
   "cell_type": "markdown",
   "metadata": {},
   "source": [
    "## Identifying Missing Data\n",
    "Values will be originally missing from a dataset or be a product of data manipulation. In pandas, missing values are typically called `NaN` or `None`.\n",
    "\n",
    "Missing data can: \n",
    "* Hint at data collection errors.\n",
    "* Indicate improper conversion or manipulation.\n",
    "* Actually not be considered missing. For some datasets, missing data can be listed as \"zero\", \"false\", \"not applicable\", \"entered an empty string\", among other possibilities. \n",
    "\n",
    "This is an important subject as before you can graph data, you should make sure you aren't trying to graph some missing values as that can cause an error or misinterpretation of the data. "
   ]
  },
  {
   "cell_type": "markdown",
   "metadata": {},
   "source": [
    "### Finding Missing Values"
   ]
  },
  {
   "cell_type": "code",
   "execution_count": 10,
   "metadata": {},
   "outputs": [
    {
     "name": "stdout",
     "output_type": "stream",
     "text": [
      "<class 'pandas.core.frame.DataFrame'>\n",
      "Index: 60 entries, 0 to 59\n",
      "Data columns (total 7 columns):\n",
      " #   Column            Non-Null Count  Dtype  \n",
      "---  ------            --------------  -----  \n",
      " 0   month             60 non-null     int64  \n",
      " 1   starting_balance  60 non-null     float64\n",
      " 2   interest_paid     59 non-null     float64\n",
      " 3   principal_paid    60 non-null     float64\n",
      " 4   new_balance       60 non-null     float64\n",
      " 5   interest_rate     60 non-null     float64\n",
      " 6   car_type          60 non-null     object \n",
      "dtypes: float64(5), int64(1), object(1)\n",
      "memory usage: 3.8+ KB\n"
     ]
    }
   ],
   "source": [
    "df.info()"
   ]
  },
  {
   "cell_type": "markdown",
   "metadata": {},
   "source": [
    "Two common methods to indicate where values in a DataFrame are missing are `isna` and `isnull`. They are exactly the same methods, but with different names."
   ]
  },
  {
   "cell_type": "code",
   "execution_count": 11,
   "metadata": {},
   "outputs": [
    {
     "data": {
      "text/plain": [
       "0    False\n",
       "1    False\n",
       "2    False\n",
       "3    False\n",
       "4    False\n",
       "Name: interest_paid, dtype: bool"
      ]
     },
     "execution_count": 11,
     "metadata": {},
     "output_type": "execute_result"
    }
   ],
   "source": [
    "# Notice we have a Pandas Series of True and False values\n",
    "df['interest_paid'].isna().head()"
   ]
  },
  {
   "cell_type": "code",
   "execution_count": 12,
   "metadata": {},
   "outputs": [],
   "source": [
    "interest_missing = df['interest_paid'].isna()"
   ]
  },
  {
   "cell_type": "code",
   "execution_count": 14,
   "metadata": {},
   "outputs": [
    {
     "data": {
      "text/html": [
       "<div>\n",
       "<style scoped>\n",
       "    .dataframe tbody tr th:only-of-type {\n",
       "        vertical-align: middle;\n",
       "    }\n",
       "\n",
       "    .dataframe tbody tr th {\n",
       "        vertical-align: top;\n",
       "    }\n",
       "\n",
       "    .dataframe thead th {\n",
       "        text-align: right;\n",
       "    }\n",
       "</style>\n",
       "<table border=\"1\" class=\"dataframe\">\n",
       "  <thead>\n",
       "    <tr style=\"text-align: right;\">\n",
       "      <th></th>\n",
       "      <th>month</th>\n",
       "      <th>starting_balance</th>\n",
       "      <th>interest_paid</th>\n",
       "      <th>principal_paid</th>\n",
       "      <th>new_balance</th>\n",
       "      <th>interest_rate</th>\n",
       "      <th>car_type</th>\n",
       "    </tr>\n",
       "  </thead>\n",
       "  <tbody>\n",
       "    <tr>\n",
       "      <th>35</th>\n",
       "      <td>36</td>\n",
       "      <td>15940.06</td>\n",
       "      <td>NaN</td>\n",
       "      <td>593.99</td>\n",
       "      <td>15346.07</td>\n",
       "      <td>0.0702</td>\n",
       "      <td>Toyota Sienna</td>\n",
       "    </tr>\n",
       "  </tbody>\n",
       "</table>\n",
       "</div>"
      ],
      "text/plain": [
       "    month  starting_balance  interest_paid  principal_paid  new_balance  \\\n",
       "35     36          15940.06            NaN          593.99     15346.07   \n",
       "\n",
       "    interest_rate       car_type  \n",
       "35         0.0702  Toyota Sienna  "
      ]
     },
     "execution_count": 14,
     "metadata": {},
     "output_type": "execute_result"
    }
   ],
   "source": [
    "# Looks at the row that contains the NaN for interest_paid\n",
    "df.loc[interest_missing,:]"
   ]
  },
  {
   "cell_type": "code",
   "execution_count": null,
   "metadata": {
    "scrolled": true
   },
   "outputs": [],
   "source": [
    "# Keep in mind that we can use the not operator (~) to negate the filter\n",
    "# every row that doesn't have a nan is returned.\n",
    "df.loc[~interest_missing,:]"
   ]
  },
  {
   "cell_type": "code",
   "execution_count": 15,
   "metadata": {},
   "outputs": [
    {
     "data": {
      "text/plain": [
       "1"
      ]
     },
     "execution_count": 15,
     "metadata": {},
     "output_type": "execute_result"
    }
   ],
   "source": [
    "# The code counts the number of missing values\n",
    "# sum() works because Booleans are a subtype of integers. \n",
    "df['interest_paid'].isna().sum()"
   ]
  },
  {
   "cell_type": "code",
   "execution_count": 16,
   "metadata": {},
   "outputs": [
    {
     "data": {
      "text/plain": [
       "1"
      ]
     },
     "execution_count": 16,
     "metadata": {},
     "output_type": "execute_result"
    }
   ],
   "source": [
    "True + False + False "
   ]
  }
 ],
 "metadata": {
  "anaconda-cloud": {},
  "kernelspec": {
   "display_name": "base",
   "language": "python",
   "name": "python3"
  },
  "language_info": {
   "codemirror_mode": {
    "name": "ipython",
    "version": 3
   },
   "file_extension": ".py",
   "mimetype": "text/x-python",
   "name": "python",
   "nbconvert_exporter": "python",
   "pygments_lexer": "ipython3",
   "version": "3.11.13"
  }
 },
 "nbformat": 4,
 "nbformat_minor": 1
}
